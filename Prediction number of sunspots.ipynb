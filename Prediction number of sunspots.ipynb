{
 "cells": [
  {
   "cell_type": "code",
   "execution_count": 1,
   "metadata": {},
   "outputs": [],
   "source": [
    "import numpy as np  # linear algebra\n",
    "import pandas as pd  # data processing, CSV file I/O (e.g. pd.read_csv)\n",
    "import matplotlib.pyplot as plt\n",
    "import matplotlib as mlp\n",
    "import seaborn as sns\n",
    "from sklearn.model_selection import StratifiedShuffleSplit\n",
    "from sklearn.linear_model import LinearRegression\n",
    "from sklearn.metrics import mean_absolute_error, mean_squared_error\n",
    "from sklearn.preprocessing import OneHotEncoder, StandardScaler # OneHE is used for convert 'str' data to numerical\n",
    "from sklearn.impute import SimpleImputer\n",
    "from sklearn.compose import ColumnTransformer\n",
    "from sklearn.pipeline import Pipeline  # multi preproseccing\n",
    "from sklearn.base import BaseEstimator, TransformerMixin  #use to construct eg. AttributesAdder \n",
    "from sklearn.model_selection import cross_val_score, GridSearchCV\n",
    "from sklearn.ensemble import RandomForestRegressor\n",
    "from sklearn.tree import DecisionTreeRegressor"
   ]
  },
  {
   "cell_type": "code",
   "execution_count": 2,
   "metadata": {},
   "outputs": [
    {
     "data": {
      "text/html": [
       "<div>\n",
       "<style scoped>\n",
       "    .dataframe tbody tr th:only-of-type {\n",
       "        vertical-align: middle;\n",
       "    }\n",
       "\n",
       "    .dataframe tbody tr th {\n",
       "        vertical-align: top;\n",
       "    }\n",
       "\n",
       "    .dataframe thead th {\n",
       "        text-align: right;\n",
       "    }\n",
       "</style>\n",
       "<table border=\"1\" class=\"dataframe\">\n",
       "  <thead>\n",
       "    <tr style=\"text-align: right;\">\n",
       "      <th></th>\n",
       "      <th>Unnamed: 0</th>\n",
       "      <th>Year</th>\n",
       "      <th>Month</th>\n",
       "      <th>Day</th>\n",
       "      <th>Date In Fraction Of Year</th>\n",
       "      <th>Number of Sunspots</th>\n",
       "      <th>Standard Deviation</th>\n",
       "      <th>Observations</th>\n",
       "      <th>Indicator</th>\n",
       "    </tr>\n",
       "  </thead>\n",
       "  <tbody>\n",
       "    <tr>\n",
       "      <th>0</th>\n",
       "      <td>0</td>\n",
       "      <td>1818</td>\n",
       "      <td>1</td>\n",
       "      <td>1</td>\n",
       "      <td>1818.001</td>\n",
       "      <td>-1</td>\n",
       "      <td>-1.0</td>\n",
       "      <td>0</td>\n",
       "      <td>1</td>\n",
       "    </tr>\n",
       "    <tr>\n",
       "      <th>1</th>\n",
       "      <td>1</td>\n",
       "      <td>1818</td>\n",
       "      <td>1</td>\n",
       "      <td>2</td>\n",
       "      <td>1818.004</td>\n",
       "      <td>-1</td>\n",
       "      <td>-1.0</td>\n",
       "      <td>0</td>\n",
       "      <td>1</td>\n",
       "    </tr>\n",
       "    <tr>\n",
       "      <th>2</th>\n",
       "      <td>2</td>\n",
       "      <td>1818</td>\n",
       "      <td>1</td>\n",
       "      <td>3</td>\n",
       "      <td>1818.007</td>\n",
       "      <td>-1</td>\n",
       "      <td>-1.0</td>\n",
       "      <td>0</td>\n",
       "      <td>1</td>\n",
       "    </tr>\n",
       "    <tr>\n",
       "      <th>3</th>\n",
       "      <td>3</td>\n",
       "      <td>1818</td>\n",
       "      <td>1</td>\n",
       "      <td>4</td>\n",
       "      <td>1818.010</td>\n",
       "      <td>-1</td>\n",
       "      <td>-1.0</td>\n",
       "      <td>0</td>\n",
       "      <td>1</td>\n",
       "    </tr>\n",
       "    <tr>\n",
       "      <th>4</th>\n",
       "      <td>4</td>\n",
       "      <td>1818</td>\n",
       "      <td>1</td>\n",
       "      <td>5</td>\n",
       "      <td>1818.012</td>\n",
       "      <td>-1</td>\n",
       "      <td>-1.0</td>\n",
       "      <td>0</td>\n",
       "      <td>1</td>\n",
       "    </tr>\n",
       "    <tr>\n",
       "      <th>5</th>\n",
       "      <td>5</td>\n",
       "      <td>1818</td>\n",
       "      <td>1</td>\n",
       "      <td>6</td>\n",
       "      <td>1818.015</td>\n",
       "      <td>-1</td>\n",
       "      <td>-1.0</td>\n",
       "      <td>0</td>\n",
       "      <td>1</td>\n",
       "    </tr>\n",
       "    <tr>\n",
       "      <th>6</th>\n",
       "      <td>6</td>\n",
       "      <td>1818</td>\n",
       "      <td>1</td>\n",
       "      <td>7</td>\n",
       "      <td>1818.018</td>\n",
       "      <td>-1</td>\n",
       "      <td>-1.0</td>\n",
       "      <td>0</td>\n",
       "      <td>1</td>\n",
       "    </tr>\n",
       "    <tr>\n",
       "      <th>7</th>\n",
       "      <td>7</td>\n",
       "      <td>1818</td>\n",
       "      <td>1</td>\n",
       "      <td>8</td>\n",
       "      <td>1818.021</td>\n",
       "      <td>65</td>\n",
       "      <td>10.2</td>\n",
       "      <td>1</td>\n",
       "      <td>1</td>\n",
       "    </tr>\n",
       "    <tr>\n",
       "      <th>8</th>\n",
       "      <td>8</td>\n",
       "      <td>1818</td>\n",
       "      <td>1</td>\n",
       "      <td>9</td>\n",
       "      <td>1818.023</td>\n",
       "      <td>-1</td>\n",
       "      <td>-1.0</td>\n",
       "      <td>0</td>\n",
       "      <td>1</td>\n",
       "    </tr>\n",
       "    <tr>\n",
       "      <th>9</th>\n",
       "      <td>9</td>\n",
       "      <td>1818</td>\n",
       "      <td>1</td>\n",
       "      <td>10</td>\n",
       "      <td>1818.026</td>\n",
       "      <td>-1</td>\n",
       "      <td>-1.0</td>\n",
       "      <td>0</td>\n",
       "      <td>1</td>\n",
       "    </tr>\n",
       "  </tbody>\n",
       "</table>\n",
       "</div>"
      ],
      "text/plain": [
       "   Unnamed: 0  Year  Month  Day  Date In Fraction Of Year  Number of Sunspots  \\\n",
       "0           0  1818      1    1                  1818.001                  -1   \n",
       "1           1  1818      1    2                  1818.004                  -1   \n",
       "2           2  1818      1    3                  1818.007                  -1   \n",
       "3           3  1818      1    4                  1818.010                  -1   \n",
       "4           4  1818      1    5                  1818.012                  -1   \n",
       "5           5  1818      1    6                  1818.015                  -1   \n",
       "6           6  1818      1    7                  1818.018                  -1   \n",
       "7           7  1818      1    8                  1818.021                  65   \n",
       "8           8  1818      1    9                  1818.023                  -1   \n",
       "9           9  1818      1   10                  1818.026                  -1   \n",
       "\n",
       "   Standard Deviation  Observations  Indicator  \n",
       "0                -1.0             0          1  \n",
       "1                -1.0             0          1  \n",
       "2                -1.0             0          1  \n",
       "3                -1.0             0          1  \n",
       "4                -1.0             0          1  \n",
       "5                -1.0             0          1  \n",
       "6                -1.0             0          1  \n",
       "7                10.2             1          1  \n",
       "8                -1.0             0          1  \n",
       "9                -1.0             0          1  "
      ]
     },
     "execution_count": 2,
     "metadata": {},
     "output_type": "execute_result"
    }
   ],
   "source": [
    "df=pd.read_csv('/home/mohammadreza/Kaggle/sunspot/sunspot_data.csv')\n",
    "df.head(10)"
   ]
  },
  {
   "cell_type": "code",
   "execution_count": 3,
   "metadata": {},
   "outputs": [],
   "source": [
    "df.drop(['Unnamed: 0'], axis=1, inplace=True)"
   ]
  },
  {
   "cell_type": "code",
   "execution_count": 8,
   "metadata": {},
   "outputs": [
    {
     "data": {
      "text/plain": [
       "(73718, 8)"
      ]
     },
     "execution_count": 8,
     "metadata": {},
     "output_type": "execute_result"
    }
   ],
   "source": [
    "df.shape"
   ]
  },
  {
   "cell_type": "code",
   "execution_count": 5,
   "metadata": {},
   "outputs": [
    {
     "name": "stdout",
     "output_type": "stream",
     "text": [
      "<class 'pandas.core.frame.DataFrame'>\n",
      "RangeIndex: 73718 entries, 0 to 73717\n",
      "Data columns (total 8 columns):\n",
      " #   Column                    Non-Null Count  Dtype  \n",
      "---  ------                    --------------  -----  \n",
      " 0   Year                      73718 non-null  int64  \n",
      " 1   Month                     73718 non-null  int64  \n",
      " 2   Day                       73718 non-null  int64  \n",
      " 3   Date In Fraction Of Year  73718 non-null  float64\n",
      " 4   Number of Sunspots        73718 non-null  int64  \n",
      " 5   Standard Deviation        73718 non-null  float64\n",
      " 6   Observations              73718 non-null  int64  \n",
      " 7   Indicator                 73718 non-null  int64  \n",
      "dtypes: float64(2), int64(6)\n",
      "memory usage: 4.5 MB\n"
     ]
    }
   ],
   "source": [
    "df.info()"
   ]
  },
  {
   "cell_type": "code",
   "execution_count": 6,
   "metadata": {},
   "outputs": [
    {
     "data": {
      "text/html": [
       "<div>\n",
       "<style scoped>\n",
       "    .dataframe tbody tr th:only-of-type {\n",
       "        vertical-align: middle;\n",
       "    }\n",
       "\n",
       "    .dataframe tbody tr th {\n",
       "        vertical-align: top;\n",
       "    }\n",
       "\n",
       "    .dataframe thead th {\n",
       "        text-align: right;\n",
       "    }\n",
       "</style>\n",
       "<table border=\"1\" class=\"dataframe\">\n",
       "  <thead>\n",
       "    <tr style=\"text-align: right;\">\n",
       "      <th></th>\n",
       "      <th>Year</th>\n",
       "      <th>Month</th>\n",
       "      <th>Day</th>\n",
       "      <th>Date In Fraction Of Year</th>\n",
       "      <th>Number of Sunspots</th>\n",
       "      <th>Standard Deviation</th>\n",
       "      <th>Observations</th>\n",
       "      <th>Indicator</th>\n",
       "    </tr>\n",
       "  </thead>\n",
       "  <tbody>\n",
       "    <tr>\n",
       "      <th>count</th>\n",
       "      <td>73718.000000</td>\n",
       "      <td>73718.000000</td>\n",
       "      <td>73718.000000</td>\n",
       "      <td>73718.000000</td>\n",
       "      <td>73718.000000</td>\n",
       "      <td>73718.000000</td>\n",
       "      <td>73718.000000</td>\n",
       "      <td>73718.000000</td>\n",
       "    </tr>\n",
       "    <tr>\n",
       "      <th>mean</th>\n",
       "      <td>1918.416750</td>\n",
       "      <td>6.518896</td>\n",
       "      <td>15.729347</td>\n",
       "      <td>1918.916406</td>\n",
       "      <td>79.248732</td>\n",
       "      <td>6.924587</td>\n",
       "      <td>4.429678</td>\n",
       "      <td>0.998331</td>\n",
       "    </tr>\n",
       "    <tr>\n",
       "      <th>std</th>\n",
       "      <td>58.264401</td>\n",
       "      <td>3.447114</td>\n",
       "      <td>8.800032</td>\n",
       "      <td>58.264520</td>\n",
       "      <td>77.470942</td>\n",
       "      <td>4.778793</td>\n",
       "      <td>7.884112</td>\n",
       "      <td>0.040814</td>\n",
       "    </tr>\n",
       "    <tr>\n",
       "      <th>min</th>\n",
       "      <td>1818.000000</td>\n",
       "      <td>1.000000</td>\n",
       "      <td>1.000000</td>\n",
       "      <td>1818.001000</td>\n",
       "      <td>-1.000000</td>\n",
       "      <td>-1.000000</td>\n",
       "      <td>0.000000</td>\n",
       "      <td>0.000000</td>\n",
       "    </tr>\n",
       "    <tr>\n",
       "      <th>25%</th>\n",
       "      <td>1868.000000</td>\n",
       "      <td>4.000000</td>\n",
       "      <td>8.000000</td>\n",
       "      <td>1868.458500</td>\n",
       "      <td>15.000000</td>\n",
       "      <td>3.000000</td>\n",
       "      <td>1.000000</td>\n",
       "      <td>1.000000</td>\n",
       "    </tr>\n",
       "    <tr>\n",
       "      <th>50%</th>\n",
       "      <td>1918.000000</td>\n",
       "      <td>7.000000</td>\n",
       "      <td>16.000000</td>\n",
       "      <td>1918.917500</td>\n",
       "      <td>58.000000</td>\n",
       "      <td>6.600000</td>\n",
       "      <td>1.000000</td>\n",
       "      <td>1.000000</td>\n",
       "    </tr>\n",
       "    <tr>\n",
       "      <th>75%</th>\n",
       "      <td>1969.000000</td>\n",
       "      <td>10.000000</td>\n",
       "      <td>23.000000</td>\n",
       "      <td>1969.373250</td>\n",
       "      <td>125.000000</td>\n",
       "      <td>10.000000</td>\n",
       "      <td>1.000000</td>\n",
       "      <td>1.000000</td>\n",
       "    </tr>\n",
       "    <tr>\n",
       "      <th>max</th>\n",
       "      <td>2019.000000</td>\n",
       "      <td>12.000000</td>\n",
       "      <td>31.000000</td>\n",
       "      <td>2019.832000</td>\n",
       "      <td>528.000000</td>\n",
       "      <td>77.700000</td>\n",
       "      <td>60.000000</td>\n",
       "      <td>1.000000</td>\n",
       "    </tr>\n",
       "  </tbody>\n",
       "</table>\n",
       "</div>"
      ],
      "text/plain": [
       "               Year         Month           Day  Date In Fraction Of Year  \\\n",
       "count  73718.000000  73718.000000  73718.000000              73718.000000   \n",
       "mean    1918.416750      6.518896     15.729347               1918.916406   \n",
       "std       58.264401      3.447114      8.800032                 58.264520   \n",
       "min     1818.000000      1.000000      1.000000               1818.001000   \n",
       "25%     1868.000000      4.000000      8.000000               1868.458500   \n",
       "50%     1918.000000      7.000000     16.000000               1918.917500   \n",
       "75%     1969.000000     10.000000     23.000000               1969.373250   \n",
       "max     2019.000000     12.000000     31.000000               2019.832000   \n",
       "\n",
       "       Number of Sunspots  Standard Deviation  Observations     Indicator  \n",
       "count        73718.000000        73718.000000  73718.000000  73718.000000  \n",
       "mean            79.248732            6.924587      4.429678      0.998331  \n",
       "std             77.470942            4.778793      7.884112      0.040814  \n",
       "min             -1.000000           -1.000000      0.000000      0.000000  \n",
       "25%             15.000000            3.000000      1.000000      1.000000  \n",
       "50%             58.000000            6.600000      1.000000      1.000000  \n",
       "75%            125.000000           10.000000      1.000000      1.000000  \n",
       "max            528.000000           77.700000     60.000000      1.000000  "
      ]
     },
     "execution_count": 6,
     "metadata": {},
     "output_type": "execute_result"
    }
   ],
   "source": [
    "df.describe()"
   ]
  },
  {
   "cell_type": "code",
   "execution_count": 7,
   "metadata": {},
   "outputs": [
    {
     "data": {
      "text/plain": [
       "Number of Sunspots          1.000000\n",
       "Standard Deviation          0.837165\n",
       "Date In Fraction Of Year    0.128850\n",
       "Year                        0.128837\n",
       "Indicator                   0.041408\n",
       "Month                       0.002993\n",
       "Day                        -0.002208\n",
       "Observations               -0.028468\n",
       "Name: Number of Sunspots, dtype: float64"
      ]
     },
     "execution_count": 7,
     "metadata": {},
     "output_type": "execute_result"
    }
   ],
   "source": [
    "cor_mx=df.corr()\n",
    "cor_mx['Number of Sunspots'].sort_values(ascending=False)"
   ]
  },
  {
   "cell_type": "code",
   "execution_count": null,
   "metadata": {},
   "outputs": [],
   "source": [
    "df_2018=df[df['Year']==2018]"
   ]
  },
  {
   "cell_type": "code",
   "execution_count": 96,
   "metadata": {},
   "outputs": [
    {
     "data": {
      "text/plain": [
       "Text(0.5, 1.0, 'Number of sunspot in each day of Jan 2018')"
      ]
     },
     "execution_count": 96,
     "metadata": {},
     "output_type": "execute_result"
    },
    {
     "data": {
      "image/png": "[encoded data removed]",
      "text/plain": [
       "<Figure size 3600x2160 with 1 Axes>"
      ]
     },
     "metadata": {},
     "output_type": "display_data"
    }
   ],
   "source": [
    "plt.figure(figsize=(50,30))\n",
    "sns.set(font_scale = 2.5)\n",
    "sns.barplot(data=df_2018, y='Month', x='Number of Sunspots', hue='Day', orient='h')\n",
    "plt.title('Number of sunspot in each day of Jan 2018')"
   ]
  },
  {
   "cell_type": "code",
   "execution_count": 98,
   "metadata": {},
   "outputs": [
    {
     "data": {
      "text/html": [
       "<div>\n",
       "<style scoped>\n",
       "    .dataframe tbody tr th:only-of-type {\n",
       "        vertical-align: middle;\n",
       "    }\n",
       "\n",
       "    .dataframe tbody tr th {\n",
       "        vertical-align: top;\n",
       "    }\n",
       "\n",
       "    .dataframe thead th {\n",
       "        text-align: right;\n",
       "    }\n",
       "</style>\n",
       "<table border=\"1\" class=\"dataframe\">\n",
       "  <thead>\n",
       "    <tr style=\"text-align: right;\">\n",
       "      <th></th>\n",
       "      <th>Year</th>\n",
       "      <th>Month</th>\n",
       "      <th>Day</th>\n",
       "      <th>Date In Fraction Of Year</th>\n",
       "      <th>Number of Sunspots</th>\n",
       "      <th>Standard Deviation</th>\n",
       "      <th>Observations</th>\n",
       "      <th>Indicator</th>\n",
       "    </tr>\n",
       "  </thead>\n",
       "  <tbody>\n",
       "    <tr>\n",
       "      <th>73049</th>\n",
       "      <td>2018</td>\n",
       "      <td>1</td>\n",
       "      <td>1</td>\n",
       "      <td>2018.001</td>\n",
       "      <td>0</td>\n",
       "      <td>0.0</td>\n",
       "      <td>23</td>\n",
       "      <td>1</td>\n",
       "    </tr>\n",
       "    <tr>\n",
       "      <th>73050</th>\n",
       "      <td>2018</td>\n",
       "      <td>1</td>\n",
       "      <td>2</td>\n",
       "      <td>2018.004</td>\n",
       "      <td>0</td>\n",
       "      <td>0.0</td>\n",
       "      <td>37</td>\n",
       "      <td>1</td>\n",
       "    </tr>\n",
       "    <tr>\n",
       "      <th>73051</th>\n",
       "      <td>2018</td>\n",
       "      <td>1</td>\n",
       "      <td>3</td>\n",
       "      <td>2018.007</td>\n",
       "      <td>0</td>\n",
       "      <td>0.0</td>\n",
       "      <td>33</td>\n",
       "      <td>1</td>\n",
       "    </tr>\n",
       "    <tr>\n",
       "      <th>73052</th>\n",
       "      <td>2018</td>\n",
       "      <td>1</td>\n",
       "      <td>4</td>\n",
       "      <td>2018.010</td>\n",
       "      <td>13</td>\n",
       "      <td>0.6</td>\n",
       "      <td>19</td>\n",
       "      <td>1</td>\n",
       "    </tr>\n",
       "    <tr>\n",
       "      <th>73053</th>\n",
       "      <td>2018</td>\n",
       "      <td>1</td>\n",
       "      <td>5</td>\n",
       "      <td>2018.012</td>\n",
       "      <td>11</td>\n",
       "      <td>0.9</td>\n",
       "      <td>16</td>\n",
       "      <td>1</td>\n",
       "    </tr>\n",
       "  </tbody>\n",
       "</table>\n",
       "</div>"
      ],
      "text/plain": [
       "       Year  Month  Day  Date In Fraction Of Year  Number of Sunspots  \\\n",
       "73049  2018      1    1                  2018.001                   0   \n",
       "73050  2018      1    2                  2018.004                   0   \n",
       "73051  2018      1    3                  2018.007                   0   \n",
       "73052  2018      1    4                  2018.010                  13   \n",
       "73053  2018      1    5                  2018.012                  11   \n",
       "\n",
       "       Standard Deviation  Observations  Indicator  \n",
       "73049                 0.0            23          1  \n",
       "73050                 0.0            37          1  \n",
       "73051                 0.0            33          1  \n",
       "73052                 0.6            19          1  \n",
       "73053                 0.9            16          1  "
      ]
     },
     "execution_count": 98,
     "metadata": {},
     "output_type": "execute_result"
    }
   ],
   "source": [
    "df_2018.head()"
   ]
  },
  {
   "cell_type": "code",
   "execution_count": 109,
   "metadata": {},
   "outputs": [
    {
     "data": {
      "text/plain": [
       "Text(0.5, 1.0, 'Number of sunspot in each day of Jan 2018')"
      ]
     },
     "execution_count": 109,
     "metadata": {},
     "output_type": "execute_result"
    },
    {
     "data": {
      "image/png": "[encoded data removed]",
      "text/plain": [
       "<Figure size 576x432 with 1 Axes>"
      ]
     },
     "metadata": {},
     "output_type": "display_data"
    }
   ],
   "source": [
    "plt.figure(figsize=(8,6))\n",
    "sns.set(font_scale=0.8)\n",
    "sns.barplot(data=df_2018, y=df_2018['Day'][df_2018['Month']==1], x='Number of Sunspots', orient='h', color='blue')\n",
    "plt.title('Number of sunspot in each day of Jan 2018')"
   ]
  },
  {
   "cell_type": "code",
   "execution_count": 111,
   "metadata": {},
   "outputs": [
    {
     "data": {
      "text/plain": [
       "Text(0.5, 1.0, 'Number of sunspot in each day of Feb 2018')"
      ]
     },
     "execution_count": 111,
     "metadata": {},
     "output_type": "execute_result"
    },
    {
     "data": {
      "image/png": "[encoded data removed]",
      "text/plain": [
       "<Figure size 576x432 with 1 Axes>"
      ]
     },
     "metadata": {},
     "output_type": "display_data"
    }
   ],
   "source": [
    "plt.figure(figsize=(8,6))\n",
    "sns.set(font_scale=0.8)\n",
    "sns.barplot(data=df_2018, y=df_2018['Day'][df_2018['Month']==2], x='Number of Sunspots', orient='h', color='red')\n",
    "plt.title('Number of sunspot in each day of Feb 2018')"
   ]
  },
  {
   "cell_type": "code",
   "execution_count": 132,
   "metadata": {},
   "outputs": [
    {
     "data": {
      "text/plain": [
       "Text(0.5, 1.0, 'Number of sunspot in each day of Jun 2018')"
      ]
     },
     "execution_count": 132,
     "metadata": {},
     "output_type": "execute_result"
    },
    {
     "data": {
      "image/png": "[encoded data removed]",
      "text/plain": [
       "<Figure size 576x432 with 1 Axes>"
      ]
     },
     "metadata": {},
     "output_type": "display_data"
    }
   ],
   "source": [
    "plt.figure(figsize=(8,6))\n",
    "sns.set(font_scale=0.8)\n",
    "sns.barplot(data=df_2018, y=df_2018['Day'][df_2018['Month']==6], x='Number of Sunspots', orient='h', color='green')\n",
    "plt.title('Number of sunspot in each day of Jun 2018')"
   ]
  },
  {
   "cell_type": "code",
   "execution_count": 135,
   "metadata": {},
   "outputs": [
    {
     "data": {
      "text/plain": [
       "Year                        0\n",
       "Month                       0\n",
       "Day                         0\n",
       "Date In Fraction Of Year    0\n",
       "Number of Sunspots          0\n",
       "Standard Deviation          0\n",
       "Observations                0\n",
       "Indicator                   0\n",
       "dtype: int64"
      ]
     },
     "execution_count": 135,
     "metadata": {},
     "output_type": "execute_result"
    }
   ],
   "source": [
    "df.isnull().sum()"
   ]
  },
  {
   "cell_type": "code",
   "execution_count": 4,
   "metadata": {},
   "outputs": [],
   "source": [
    "df.drop(['Month','Day','Observations', 'Indicator'], axis=1, inplace=True)"
   ]
  },
  {
   "cell_type": "code",
   "execution_count": 5,
   "metadata": {},
   "outputs": [
    {
     "data": {
      "text/html": [
       "<div>\n",
       "<style scoped>\n",
       "    .dataframe tbody tr th:only-of-type {\n",
       "        vertical-align: middle;\n",
       "    }\n",
       "\n",
       "    .dataframe tbody tr th {\n",
       "        vertical-align: top;\n",
       "    }\n",
       "\n",
       "    .dataframe thead th {\n",
       "        text-align: right;\n",
       "    }\n",
       "</style>\n",
       "<table border=\"1\" class=\"dataframe\">\n",
       "  <thead>\n",
       "    <tr style=\"text-align: right;\">\n",
       "      <th></th>\n",
       "      <th>Year</th>\n",
       "      <th>Date In Fraction Of Year</th>\n",
       "      <th>Number of Sunspots</th>\n",
       "      <th>Standard Deviation</th>\n",
       "    </tr>\n",
       "  </thead>\n",
       "  <tbody>\n",
       "    <tr>\n",
       "      <th>0</th>\n",
       "      <td>1818</td>\n",
       "      <td>1818.001</td>\n",
       "      <td>-1</td>\n",
       "      <td>-1.0</td>\n",
       "    </tr>\n",
       "    <tr>\n",
       "      <th>1</th>\n",
       "      <td>1818</td>\n",
       "      <td>1818.004</td>\n",
       "      <td>-1</td>\n",
       "      <td>-1.0</td>\n",
       "    </tr>\n",
       "    <tr>\n",
       "      <th>2</th>\n",
       "      <td>1818</td>\n",
       "      <td>1818.007</td>\n",
       "      <td>-1</td>\n",
       "      <td>-1.0</td>\n",
       "    </tr>\n",
       "    <tr>\n",
       "      <th>3</th>\n",
       "      <td>1818</td>\n",
       "      <td>1818.010</td>\n",
       "      <td>-1</td>\n",
       "      <td>-1.0</td>\n",
       "    </tr>\n",
       "    <tr>\n",
       "      <th>4</th>\n",
       "      <td>1818</td>\n",
       "      <td>1818.012</td>\n",
       "      <td>-1</td>\n",
       "      <td>-1.0</td>\n",
       "    </tr>\n",
       "    <tr>\n",
       "      <th>...</th>\n",
       "      <td>...</td>\n",
       "      <td>...</td>\n",
       "      <td>...</td>\n",
       "      <td>...</td>\n",
       "    </tr>\n",
       "    <tr>\n",
       "      <th>73713</th>\n",
       "      <td>2019</td>\n",
       "      <td>2019.821</td>\n",
       "      <td>0</td>\n",
       "      <td>0.0</td>\n",
       "    </tr>\n",
       "    <tr>\n",
       "      <th>73714</th>\n",
       "      <td>2019</td>\n",
       "      <td>2019.823</td>\n",
       "      <td>0</td>\n",
       "      <td>0.0</td>\n",
       "    </tr>\n",
       "    <tr>\n",
       "      <th>73715</th>\n",
       "      <td>2019</td>\n",
       "      <td>2019.826</td>\n",
       "      <td>0</td>\n",
       "      <td>0.0</td>\n",
       "    </tr>\n",
       "    <tr>\n",
       "      <th>73716</th>\n",
       "      <td>2019</td>\n",
       "      <td>2019.829</td>\n",
       "      <td>0</td>\n",
       "      <td>0.0</td>\n",
       "    </tr>\n",
       "    <tr>\n",
       "      <th>73717</th>\n",
       "      <td>2019</td>\n",
       "      <td>2019.832</td>\n",
       "      <td>0</td>\n",
       "      <td>0.0</td>\n",
       "    </tr>\n",
       "  </tbody>\n",
       "</table>\n",
       "<p>73718 rows × 4 columns</p>\n",
       "</div>"
      ],
      "text/plain": [
       "       Year  Date In Fraction Of Year  Number of Sunspots  Standard Deviation\n",
       "0      1818                  1818.001                  -1                -1.0\n",
       "1      1818                  1818.004                  -1                -1.0\n",
       "2      1818                  1818.007                  -1                -1.0\n",
       "3      1818                  1818.010                  -1                -1.0\n",
       "4      1818                  1818.012                  -1                -1.0\n",
       "...     ...                       ...                 ...                 ...\n",
       "73713  2019                  2019.821                   0                 0.0\n",
       "73714  2019                  2019.823                   0                 0.0\n",
       "73715  2019                  2019.826                   0                 0.0\n",
       "73716  2019                  2019.829                   0                 0.0\n",
       "73717  2019                  2019.832                   0                 0.0\n",
       "\n",
       "[73718 rows x 4 columns]"
      ]
     },
     "execution_count": 5,
     "metadata": {},
     "output_type": "execute_result"
    }
   ],
   "source": [
    "df"
   ]
  },
  {
   "cell_type": "code",
   "execution_count": 6,
   "metadata": {},
   "outputs": [
    {
     "data": {
      "text/html": [
       "<div>\n",
       "<style scoped>\n",
       "    .dataframe tbody tr th:only-of-type {\n",
       "        vertical-align: middle;\n",
       "    }\n",
       "\n",
       "    .dataframe tbody tr th {\n",
       "        vertical-align: top;\n",
       "    }\n",
       "\n",
       "    .dataframe thead th {\n",
       "        text-align: right;\n",
       "    }\n",
       "</style>\n",
       "<table border=\"1\" class=\"dataframe\">\n",
       "  <thead>\n",
       "    <tr style=\"text-align: right;\">\n",
       "      <th></th>\n",
       "      <th>Year</th>\n",
       "      <th>Date In Fraction Of Year</th>\n",
       "      <th>Number of Sunspots</th>\n",
       "      <th>Standard Deviation</th>\n",
       "    </tr>\n",
       "  </thead>\n",
       "  <tbody>\n",
       "    <tr>\n",
       "      <th>25834</th>\n",
       "      <td>1888</td>\n",
       "      <td>1888.731</td>\n",
       "      <td>18</td>\n",
       "      <td>4.8</td>\n",
       "    </tr>\n",
       "    <tr>\n",
       "      <th>30595</th>\n",
       "      <td>1901</td>\n",
       "      <td>1901.768</td>\n",
       "      <td>12</td>\n",
       "      <td>3.0</td>\n",
       "    </tr>\n",
       "    <tr>\n",
       "      <th>67547</th>\n",
       "      <td>2002</td>\n",
       "      <td>2002.938</td>\n",
       "      <td>179</td>\n",
       "      <td>9.4</td>\n",
       "    </tr>\n",
       "    <tr>\n",
       "      <th>36359</th>\n",
       "      <td>1917</td>\n",
       "      <td>1917.549</td>\n",
       "      <td>112</td>\n",
       "      <td>9.4</td>\n",
       "    </tr>\n",
       "    <tr>\n",
       "      <th>40427</th>\n",
       "      <td>1928</td>\n",
       "      <td>1928.687</td>\n",
       "      <td>172</td>\n",
       "      <td>11.7</td>\n",
       "    </tr>\n",
       "    <tr>\n",
       "      <th>...</th>\n",
       "      <td>...</td>\n",
       "      <td>...</td>\n",
       "      <td>...</td>\n",
       "      <td>...</td>\n",
       "    </tr>\n",
       "    <tr>\n",
       "      <th>37194</th>\n",
       "      <td>1919</td>\n",
       "      <td>1919.837</td>\n",
       "      <td>160</td>\n",
       "      <td>11.3</td>\n",
       "    </tr>\n",
       "    <tr>\n",
       "      <th>6265</th>\n",
       "      <td>1835</td>\n",
       "      <td>1835.155</td>\n",
       "      <td>-1</td>\n",
       "      <td>-1.0</td>\n",
       "    </tr>\n",
       "    <tr>\n",
       "      <th>54886</th>\n",
       "      <td>1968</td>\n",
       "      <td>1968.275</td>\n",
       "      <td>147</td>\n",
       "      <td>8.1</td>\n",
       "    </tr>\n",
       "    <tr>\n",
       "      <th>860</th>\n",
       "      <td>1820</td>\n",
       "      <td>1820.357</td>\n",
       "      <td>60</td>\n",
       "      <td>9.8</td>\n",
       "    </tr>\n",
       "    <tr>\n",
       "      <th>15795</th>\n",
       "      <td>1861</td>\n",
       "      <td>1861.245</td>\n",
       "      <td>287</td>\n",
       "      <td>20.9</td>\n",
       "    </tr>\n",
       "  </tbody>\n",
       "</table>\n",
       "<p>58974 rows × 4 columns</p>\n",
       "</div>"
      ],
      "text/plain": [
       "       Year  Date In Fraction Of Year  Number of Sunspots  Standard Deviation\n",
       "25834  1888                  1888.731                  18                 4.8\n",
       "30595  1901                  1901.768                  12                 3.0\n",
       "67547  2002                  2002.938                 179                 9.4\n",
       "36359  1917                  1917.549                 112                 9.4\n",
       "40427  1928                  1928.687                 172                11.7\n",
       "...     ...                       ...                 ...                 ...\n",
       "37194  1919                  1919.837                 160                11.3\n",
       "6265   1835                  1835.155                  -1                -1.0\n",
       "54886  1968                  1968.275                 147                 8.1\n",
       "860    1820                  1820.357                  60                 9.8\n",
       "15795  1861                  1861.245                 287                20.9\n",
       "\n",
       "[58974 rows x 4 columns]"
      ]
     },
     "execution_count": 6,
     "metadata": {},
     "output_type": "execute_result"
    }
   ],
   "source": [
    "from sklearn.model_selection import train_test_split\n",
    "\n",
    "train, test=train_test_split(df, test_size=0.2, random_state=42)\n",
    "train"
   ]
  },
  {
   "cell_type": "code",
   "execution_count": 7,
   "metadata": {},
   "outputs": [],
   "source": [
    "X=train.drop('Number of Sunspots', axis=1, inplace=False)\n",
    "y=train['Number of Sunspots'].copy()"
   ]
  },
  {
   "cell_type": "code",
   "execution_count": 16,
   "metadata": {},
   "outputs": [],
   "source": [
    "scale=StandardScaler()\n",
    "X_scaled=scale.fit_transform(X)"
   ]
  },
  {
   "cell_type": "code",
   "execution_count": 17,
   "metadata": {},
   "outputs": [
    {
     "data": {
      "text/plain": [
       "LinearRegression()"
      ]
     },
     "execution_count": 17,
     "metadata": {},
     "output_type": "execute_result"
    }
   ],
   "source": [
    "lin_reg=LinearRegression()\n",
    "\n",
    "lin_reg.fit(X_scaled, y)"
   ]
  },
  {
   "cell_type": "code",
   "execution_count": 36,
   "metadata": {},
   "outputs": [],
   "source": [
    "lin_scores=cross_val_score(lin_reg, X_scaled, y, scoring='neg_mean_absolute_error', cv=10)\n",
    "lin_mae=-lin_scores\n",
    "lin_mae\n",
    "\n",
    "def cost_fun(scores):\n",
    "    print('Scores:', scores,\n",
    "         'Mean:', scores.mean(),\n",
    "         'Standard Deviation:', scores.std())"
   ]
  },
  {
   "cell_type": "code",
   "execution_count": 37,
   "metadata": {},
   "outputs": [
    {
     "name": "stdout",
     "output_type": "stream",
     "text": [
      "Scores: [27.21077816 27.45575339 27.32588867 26.37522104 27.25226668 27.06564574\n",
      " 26.96801563 27.20004121 27.33302689 27.09969291] Mean: 27.128633032259888 Standard Deviation: 0.28514191247161785\n"
     ]
    }
   ],
   "source": [
    "cost_fun(lin_mae)"
   ]
  },
  {
   "cell_type": "code",
   "execution_count": 38,
   "metadata": {},
   "outputs": [
    {
     "name": "stdout",
     "output_type": "stream",
     "text": [
      "Scores: [27.21080862 27.45477018 27.32599388 26.37514283 27.2522472  27.06496493\n",
      " 26.96503474 27.19815392 27.33302731 27.09913429] Mean: 27.127927789341832 Standard Deviation: 0.28520009193005896\n"
     ]
    }
   ],
   "source": [
    "from sklearn.linear_model import Ridge, Lasso\n",
    "\n",
    "ridge=Ridge()\n",
    "ridge.fit(X_scaled, y)\n",
    "ridge_scores=cross_val_score(ridge, X_scaled, y, cv=10, scoring='neg_mean_absolute_error')\n",
    "ridge_mae=-ridge_scores\n",
    "\n",
    "cost_fun(ridge_mae)"
   ]
  },
  {
   "cell_type": "code",
   "execution_count": 39,
   "metadata": {},
   "outputs": [
    {
     "data": {
      "text/plain": [
       "GridSearchCV(cv=10, estimator=Ridge(),\n",
       "             param_grid={'alpha': array([1.00000000e-05, 1.29154967e-04, 1.66810054e-03, 2.15443469e-02,\n",
       "       2.78255940e-01, 3.59381366e+00, 4.64158883e+01, 5.99484250e+02,\n",
       "       7.74263683e+03, 1.00000000e+05])},\n",
       "             return_train_score=True, scoring='neg_mean_absolute_error')"
      ]
     },
     "execution_count": 39,
     "metadata": {},
     "output_type": "execute_result"
    }
   ],
   "source": [
    "param_grid=({\n",
    "    'alpha': np.logspace(-5,5,10)\n",
    "})\n",
    "\n",
    "ridge_search=GridSearchCV(ridge, param_grid, cv=10, \n",
    "                         scoring='neg_mean_absolute_error',\n",
    "                         return_train_score=True)\n",
    "ridge_search.fit(X_scaled,y)\n"
   ]
  },
  {
   "cell_type": "code",
   "execution_count": 40,
   "metadata": {},
   "outputs": [
    {
     "data": {
      "text/plain": [
       "{'alpha': 46.41588833612782}"
      ]
     },
     "execution_count": 40,
     "metadata": {},
     "output_type": "execute_result"
    }
   ],
   "source": [
    "ridge_search.best_params_"
   ]
  },
  {
   "cell_type": "code",
   "execution_count": 41,
   "metadata": {},
   "outputs": [
    {
     "name": "stdout",
     "output_type": "stream",
     "text": [
      "Scores: [27.2115913  27.45371537 27.32808149 26.37486348 27.25122693 27.06551609\n",
      " 26.9619704  27.19500424 27.33316753 27.09840589] Mean: 27.12735427128923 Standard Deviation: 0.2853830923954043\n"
     ]
    }
   ],
   "source": [
    "ridge_model=ridge_search.best_estimator_\n",
    "ridge_model.fit(X_scaled,y)\n",
    "ridge_model_scores=cross_val_score(ridge_model, X_scaled, y, cv=10, scoring='neg_mean_absolute_error')\n",
    "ridge_model_mae=-ridge_model_scores\n",
    "\n",
    "cost_fun(ridge_model_mae)"
   ]
  },
  {
   "cell_type": "code",
   "execution_count": 42,
   "metadata": {},
   "outputs": [
    {
     "name": "stdout",
     "output_type": "stream",
     "text": [
      "Scores: [4.46083418 4.34181078 4.31688708 4.06358087 4.37324063 4.57961675\n",
      " 4.40342547 4.62099373 4.5007631  4.14719349] Mean: 4.380834608904196 Standard Deviation: 0.1671501669452142\n"
     ]
    }
   ],
   "source": [
    "tree_reg=DecisionTreeRegressor()\n",
    "tree_reg.fit(X_scaled, y)\n",
    "tree_scores=cross_val_score(tree_reg, X_scaled, y, cv=10, scoring='neg_mean_absolute_error')\n",
    "tree_mae=-tree_scores\n",
    "\n",
    "cost_fun(tree_mae)"
   ]
  },
  {
   "cell_type": "code",
   "execution_count": 43,
   "metadata": {},
   "outputs": [
    {
     "name": "stdout",
     "output_type": "stream",
     "text": [
      "Scores: [3.64629196 3.66801289 3.64672092 3.38847067 3.63100051 3.82487197\n",
      " 3.58696625 3.88670341 3.72873834 3.37928269] Mean: 3.6387059607183403 Standard Deviation: 0.154240571033558\n"
     ]
    }
   ],
   "source": [
    "random_forest=RandomForestRegressor()\n",
    "random_forest.fit(X_scaled, y)\n",
    "\n",
    "forest_score=cross_val_score(random_forest, X_scaled, y, cv=10, scoring='neg_mean_absolute_error')\n",
    "forest_mae=-forest_score\n",
    "\n",
    "cost_fun(forest_mae)"
   ]
  },
  {
   "cell_type": "markdown",
   "metadata": {},
   "source": [
    "### Training Model with polynomial features"
   ]
  },
  {
   "cell_type": "code",
   "execution_count": 48,
   "metadata": {},
   "outputs": [
    {
     "data": {
      "text/plain": [
       "LinearRegression()"
      ]
     },
     "execution_count": 48,
     "metadata": {},
     "output_type": "execute_result"
    }
   ],
   "source": [
    "from sklearn.preprocessing import PolynomialFeatures\n",
    "\n",
    "poly=PolynomialFeatures(degree=3)\n",
    "X_poly=poly.fit_transform(X_scaled)\n",
    "\n",
    "lin_reg.fit(X_poly, y)"
   ]
  },
  {
   "cell_type": "code",
   "execution_count": 49,
   "metadata": {},
   "outputs": [
    {
     "name": "stdout",
     "output_type": "stream",
     "text": [
      "Scores: [17.87041059 18.18188424 17.69383484 16.96129449 17.98096439 17.69330643\n",
      " 17.73144602 17.76776697 17.76489854 17.44317705] Mean: 17.708898356696302 Standard Deviation: 0.30998727083565675\n"
     ]
    }
   ],
   "source": [
    "lin_scores=cross_val_score(lin_reg, X_poly, y, scoring='neg_mean_absolute_error', cv=10)\n",
    "lin_mae=-lin_scores\n",
    "\n",
    "cost_fun(lin_mae)"
   ]
  },
  {
   "cell_type": "code",
   "execution_count": 50,
   "metadata": {},
   "outputs": [
    {
     "name": "stdout",
     "output_type": "stream",
     "text": [
      "Scores: [4.53526619 4.42641573 4.652255   4.05866395 4.20128879 4.59708326\n",
      " 4.45294217 4.93488214 4.71934882 4.1989147 ] Mean: 4.477706077651659 Standard Deviation: 0.25463777720551956\n"
     ]
    }
   ],
   "source": [
    "tree_reg=DecisionTreeRegressor()\n",
    "tree_reg.fit(X_poly, y)\n",
    "\n",
    "tree_scores=cross_val_score(tree_reg, X_poly, y, cv=10, scoring='neg_mean_absolute_error')\n",
    "tree_mae=-tree_scores\n",
    "\n",
    "cost_fun(tree_mae)"
   ]
  },
  {
   "cell_type": "code",
   "execution_count": 47,
   "metadata": {},
   "outputs": [
    {
     "name": "stdout",
     "output_type": "stream",
     "text": [
      "Scores: [3.77202798 3.68067147 3.8763671  3.84079695 3.64333814] Mean: 3.762640327903994 Standard Deviation: 0.08953465361918901\n"
     ]
    }
   ],
   "source": [
    "random_forest=RandomForestRegressor()\n",
    "random_forest.fit(X_poly, y)\n",
    "\n",
    "forest_score=cross_val_score(random_forest, X_poly, y, cv=5, scoring='neg_mean_absolute_error')\n",
    "forest_mae=-forest_score\n",
    "\n",
    "cost_fun(forest_mae)"
   ]
  },
  {
   "cell_type": "markdown",
   "metadata": {},
   "source": [
    "It ( Polynomial) does not make sense"
   ]
  },
  {
   "cell_type": "code",
   "execution_count": 51,
   "metadata": {},
   "outputs": [
    {
     "data": {
      "text/plain": [
       "GridSearchCV(cv=5, estimator=RandomForestRegressor(random_state=42),\n",
       "             param_grid=[{'max_features': [2, 3], 'n_estimators': [10, 20, 40]},\n",
       "                         {'bootstrap': [False], 'max_features': [2, 3],\n",
       "                          'n_estimators': [20, 40]}],\n",
       "             return_train_score=True, scoring='neg_mean_absolute_error')"
      ]
     },
     "execution_count": 51,
     "metadata": {},
     "output_type": "execute_result"
    }
   ],
   "source": [
    "\n",
    "param_grid = [\n",
    "    # Try 20 (4*5) combination of hyperparameters\n",
    "    {'n_estimators': [10, 20, 40], 'max_features': [2, 3]},\n",
    "    # Try bootstrap as False with 12 combination\n",
    "    {'bootstrap': [False], 'n_estimators': [20, 40], 'max_features': [2, 3]},\n",
    "]\n",
    "forest_reg = RandomForestRegressor(random_state=42)\n",
    "# Train across 5 fold, that is a total of (16 + 12)*5 rounds of training\n",
    "forest_search = GridSearchCV(forest_reg, param_grid, cv=5,\n",
    "                           scoring=\"neg_mean_absolute_error\",\n",
    "                           return_train_score=True)\n",
    "forest_search.fit(X_scaled, y)"
   ]
  },
  {
   "cell_type": "code",
   "execution_count": 52,
   "metadata": {},
   "outputs": [
    {
     "data": {
      "text/plain": [
       "{'max_features': 3, 'n_estimators': 40}"
      ]
     },
     "execution_count": 52,
     "metadata": {},
     "output_type": "execute_result"
    }
   ],
   "source": [
    "forest_search.best_params_"
   ]
  },
  {
   "cell_type": "code",
   "execution_count": 53,
   "metadata": {},
   "outputs": [
    {
     "name": "stdout",
     "output_type": "stream",
     "text": [
      "Scores: [1.93250075 1.90019633 1.95849688 1.95146927 1.89465435] Mean: 1.9274635151517394 Standard Deviation: 0.02601791958881354\n"
     ]
    }
   ],
   "source": [
    "forest_model=forest_search.best_estimator_\n",
    "\n",
    "forest_model.fit(X_scaled, y)\n",
    "\n",
    "forest_model_score=cross_val_score(forest_model, X_scaled, y, cv=5, scoring='neg_mean_absolute_error')\n",
    "forest_model_rmse=np.sqrt(-forest_model_score)\n",
    "\n",
    "cost_fun(forest_model_rmse)"
   ]
  },
  {
   "cell_type": "markdown",
   "metadata": {},
   "source": [
    "let's go through our `test_set` for final `MAE`"
   ]
  },
  {
   "cell_type": "code",
   "execution_count": 54,
   "metadata": {},
   "outputs": [
    {
     "data": {
      "text/html": [
       "<div>\n",
       "<style scoped>\n",
       "    .dataframe tbody tr th:only-of-type {\n",
       "        vertical-align: middle;\n",
       "    }\n",
       "\n",
       "    .dataframe tbody tr th {\n",
       "        vertical-align: top;\n",
       "    }\n",
       "\n",
       "    .dataframe thead th {\n",
       "        text-align: right;\n",
       "    }\n",
       "</style>\n",
       "<table border=\"1\" class=\"dataframe\">\n",
       "  <thead>\n",
       "    <tr style=\"text-align: right;\">\n",
       "      <th></th>\n",
       "      <th>Year</th>\n",
       "      <th>Date In Fraction Of Year</th>\n",
       "      <th>Number of Sunspots</th>\n",
       "      <th>Standard Deviation</th>\n",
       "    </tr>\n",
       "  </thead>\n",
       "  <tbody>\n",
       "    <tr>\n",
       "      <th>56571</th>\n",
       "      <td>1972</td>\n",
       "      <td>1972.887</td>\n",
       "      <td>82</td>\n",
       "      <td>6.0</td>\n",
       "    </tr>\n",
       "    <tr>\n",
       "      <th>66678</th>\n",
       "      <td>2000</td>\n",
       "      <td>2000.559</td>\n",
       "      <td>286</td>\n",
       "      <td>15.9</td>\n",
       "    </tr>\n",
       "    <tr>\n",
       "      <th>36998</th>\n",
       "      <td>1919</td>\n",
       "      <td>1919.300</td>\n",
       "      <td>27</td>\n",
       "      <td>4.6</td>\n",
       "    </tr>\n",
       "    <tr>\n",
       "      <th>16814</th>\n",
       "      <td>1864</td>\n",
       "      <td>1864.037</td>\n",
       "      <td>87</td>\n",
       "      <td>11.3</td>\n",
       "    </tr>\n",
       "    <tr>\n",
       "      <th>48277</th>\n",
       "      <td>1950</td>\n",
       "      <td>1950.179</td>\n",
       "      <td>261</td>\n",
       "      <td>10.8</td>\n",
       "    </tr>\n",
       "    <tr>\n",
       "      <th>...</th>\n",
       "      <td>...</td>\n",
       "      <td>...</td>\n",
       "      <td>...</td>\n",
       "      <td>...</td>\n",
       "    </tr>\n",
       "    <tr>\n",
       "      <th>61615</th>\n",
       "      <td>1986</td>\n",
       "      <td>1986.697</td>\n",
       "      <td>0</td>\n",
       "      <td>2.0</td>\n",
       "    </tr>\n",
       "    <tr>\n",
       "      <th>41229</th>\n",
       "      <td>1930</td>\n",
       "      <td>1930.884</td>\n",
       "      <td>72</td>\n",
       "      <td>7.6</td>\n",
       "    </tr>\n",
       "    <tr>\n",
       "      <th>43935</th>\n",
       "      <td>1938</td>\n",
       "      <td>1938.292</td>\n",
       "      <td>178</td>\n",
       "      <td>11.9</td>\n",
       "    </tr>\n",
       "    <tr>\n",
       "      <th>31396</th>\n",
       "      <td>1903</td>\n",
       "      <td>1903.963</td>\n",
       "      <td>92</td>\n",
       "      <td>8.5</td>\n",
       "    </tr>\n",
       "    <tr>\n",
       "      <th>49329</th>\n",
       "      <td>1953</td>\n",
       "      <td>1953.059</td>\n",
       "      <td>26</td>\n",
       "      <td>3.5</td>\n",
       "    </tr>\n",
       "  </tbody>\n",
       "</table>\n",
       "<p>14744 rows × 4 columns</p>\n",
       "</div>"
      ],
      "text/plain": [
       "       Year  Date In Fraction Of Year  Number of Sunspots  Standard Deviation\n",
       "56571  1972                  1972.887                  82                 6.0\n",
       "66678  2000                  2000.559                 286                15.9\n",
       "36998  1919                  1919.300                  27                 4.6\n",
       "16814  1864                  1864.037                  87                11.3\n",
       "48277  1950                  1950.179                 261                10.8\n",
       "...     ...                       ...                 ...                 ...\n",
       "61615  1986                  1986.697                   0                 2.0\n",
       "41229  1930                  1930.884                  72                 7.6\n",
       "43935  1938                  1938.292                 178                11.9\n",
       "31396  1903                  1903.963                  92                 8.5\n",
       "49329  1953                  1953.059                  26                 3.5\n",
       "\n",
       "[14744 rows x 4 columns]"
      ]
     },
     "execution_count": 54,
     "metadata": {},
     "output_type": "execute_result"
    }
   ],
   "source": [
    "test"
   ]
  },
  {
   "cell_type": "code",
   "execution_count": 57,
   "metadata": {},
   "outputs": [
    {
     "data": {
      "text/plain": [
       "1.8667815908315593"
      ]
     },
     "execution_count": 57,
     "metadata": {},
     "output_type": "execute_result"
    }
   ],
   "source": [
    "X_test=test.drop('Number of Sunspots', axis=1, inplace=False)\n",
    "y_test=test['Number of Sunspots'].copy()\n",
    "\n",
    "X_test_scaled=scale.transform(X_test)\n",
    "final_prediction=forest_model.predict(X_test_scaled)\n",
    "final_mae=mean_absolute_error(final_prediction, y_test)\n",
    "final_mae=np.sqrt(final_mae)\n",
    "final_mae"
   ]
  },
  {
   "cell_type": "code",
   "execution_count": null,
   "metadata": {},
   "outputs": [],
   "source": []
  }
 ],
 "metadata": {
  "kernelspec": {
   "display_name": "Python 3",
   "language": "python",
   "name": "python3"
  },
  "language_info": {
   "codemirror_mode": {
    "name": "ipython",
    "version": 3
   },
   "file_extension": ".py",
   "mimetype": "text/x-python",
   "name": "python",
   "nbconvert_exporter": "python",
   "pygments_lexer": "ipython3",
   "version": "3.8.5"
  }
 },
 "nbformat": 4,
 "nbformat_minor": 4
}
